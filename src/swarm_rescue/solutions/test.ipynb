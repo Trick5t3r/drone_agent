{
 "cells": [
  {
   "cell_type": "code",
   "execution_count": null,
   "metadata": {},
   "outputs": [
    {
     "data": {
      "text/plain": [
       "[[1 4]\n",
       " [2 4]\n",
       " [3 4]\n",
       " [1 5]\n",
       " [2 5]\n",
       " [3 5]]\n"
      ]
     },
     "metadata": {},
     "output_type": "display_data"
    }
   ],
   "source": [
    "import numpy as np\n",
    "\n",
    "a = np.array([1, 2, 3])\n",
    "b = np.array([4, 5])\n",
    "\n",
    "# Création d'une grille avec meshgrid\n",
    "A, B = np.meshgrid(a, b)\n",
    "# Reformater pour obtenir une liste de paires\n",
    "cartesian_product = np.column_stack([A.ravel(), B.ravel()])\n",
    "\n",
    "print(cartesian_product)"
   ]
  },
  {
   "cell_type": "code",
   "execution_count": null,
   "metadata": {},
   "outputs": [
    {
     "data": {
      "text/plain": [
       "[-1.         -0.77777778 -0.55555556 -0.33333333 -0.11111111  0.11111111\n",
       "  0.33333333  0.55555556  0.77777778  1.        ]\n"
      ]
     },
     "metadata": {},
     "output_type": "display_data"
    }
   ],
   "source": [
    "np.linspace(-1,1,10)"
   ]
  },
  {
   "cell_type": "code",
   "execution_count": null,
   "metadata": {},
   "outputs": [],
   "source": []
  }
 ],
 "metadata": {
  "language_info": {
   "name": "python"
  }
 },
 "nbformat": 4,
 "nbformat_minor": 2
}
